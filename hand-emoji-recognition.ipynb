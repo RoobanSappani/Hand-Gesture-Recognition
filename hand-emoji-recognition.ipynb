{
 "cells": [
  {
   "cell_type": "markdown",
   "metadata": {
    "papermill": {
     "duration": 0.007787,
     "end_time": "2021-02-13T07:03:47.400311",
     "exception": false,
     "start_time": "2021-02-13T07:03:47.392524",
     "status": "completed"
    },
    "tags": []
   },
   "source": [
    "## Neceassy Imports"
   ]
  },
  {
   "cell_type": "code",
   "execution_count": 1,
   "metadata": {
    "_cell_guid": "b1076dfc-b9ad-4769-8c92-a6c4dae69d19",
    "_uuid": "8f2839f25d086af736a60e9eeb907d3b93b6e0e5",
    "execution": {
     "iopub.execute_input": "2021-02-13T07:03:47.421126Z",
     "iopub.status.busy": "2021-02-13T07:03:47.420502Z",
     "iopub.status.idle": "2021-02-13T07:03:53.406905Z",
     "shell.execute_reply": "2021-02-13T07:03:53.406198Z"
    },
    "papermill": {
     "duration": 5.999758,
     "end_time": "2021-02-13T07:03:53.407095",
     "exception": false,
     "start_time": "2021-02-13T07:03:47.407337",
     "status": "completed"
    },
    "tags": []
   },
   "outputs": [],
   "source": [
    "import os\n",
    "import numpy as np\n",
    "\n",
    "from tensorflow.keras.utils import to_categorical\n",
    "from tensorflow.keras.models import Sequential\n",
    "from tensorflow.keras.layers import Conv2D, MaxPooling2D, UpSampling2D, Dense, Flatten, Dropout\n",
    "from keras.regularizers import l2\n",
    "from keras.regularizers import l1\n",
    "\n",
    "from sklearn.utils import shuffle\n",
    "from PIL import Image\n",
    "from tensorflow.keras import regularizers"
   ]
  },
  {
   "cell_type": "markdown",
   "metadata": {
    "papermill": {
     "duration": 0.006526,
     "end_time": "2021-02-13T07:03:53.422240",
     "exception": false,
     "start_time": "2021-02-13T07:03:53.415714",
     "status": "completed"
    },
    "tags": []
   },
   "source": [
    "## Loading the data"
   ]
  },
  {
   "cell_type": "code",
   "execution_count": 2,
   "metadata": {
    "_cell_guid": "79c7e3d0-c299-4dcb-8224-4455121ee9b0",
    "_uuid": "d629ff2d2480ee46fbb7e2d37f6b5fab8052498a",
    "execution": {
     "iopub.execute_input": "2021-02-13T07:03:53.443127Z",
     "iopub.status.busy": "2021-02-13T07:03:53.442438Z",
     "iopub.status.idle": "2021-02-13T07:04:13.176607Z",
     "shell.execute_reply": "2021-02-13T07:04:13.177522Z"
    },
    "papermill": {
     "duration": 19.748845,
     "end_time": "2021-02-13T07:04:13.177764",
     "exception": false,
     "start_time": "2021-02-13T07:03:53.428919",
     "status": "completed"
    },
    "tags": []
   },
   "outputs": [],
   "source": [
    "labels = ['call_me','fingers_crossed','up','okay','paper','rock','rock_on','scissor','peace','thumbs']\n",
    "y_train = []\n",
    "x_train = []\n",
    "path = \"../input/hand-gesture-recognition/HandGesture/images\"\n",
    "for i in os.listdir(path):\n",
    "    for j in os.listdir(path + \"/\" + i):\n",
    "        im =  Image.open(path + \"/\" + i + '/' + j)\n",
    "        im = im.resize((240,200),Image.ANTIALIAS)\n",
    "        im = np.array(im)\n",
    "        im = np.expand_dims(im,axis = 2)\n",
    "        x_train.append(im)\n",
    "        y_train.append(labels.index(i))"
   ]
  },
  {
   "cell_type": "code",
   "execution_count": 3,
   "metadata": {
    "execution": {
     "iopub.execute_input": "2021-02-13T07:04:13.208691Z",
     "iopub.status.busy": "2021-02-13T07:04:13.206381Z",
     "iopub.status.idle": "2021-02-13T07:04:13.482643Z",
     "shell.execute_reply": "2021-02-13T07:04:13.483985Z"
    },
    "papermill": {
     "duration": 0.295336,
     "end_time": "2021-02-13T07:04:13.484229",
     "exception": false,
     "start_time": "2021-02-13T07:04:13.188893",
     "status": "completed"
    },
    "tags": []
   },
   "outputs": [],
   "source": [
    "x = np.array(x_train)\n",
    "y = to_categorical(y_train)\n",
    "\n",
    "from sklearn.model_selection import train_test_split\n",
    "x_train, x_val, y_train, y_val = train_test_split(x, y, train_size=0.80, random_state = 42)"
   ]
  },
  {
   "cell_type": "code",
   "execution_count": 4,
   "metadata": {
    "execution": {
     "iopub.execute_input": "2021-02-13T07:04:13.514554Z",
     "iopub.status.busy": "2021-02-13T07:04:13.513439Z",
     "iopub.status.idle": "2021-02-13T07:04:13.518125Z",
     "shell.execute_reply": "2021-02-13T07:04:13.515382Z"
    },
    "papermill": {
     "duration": 0.022576,
     "end_time": "2021-02-13T07:04:13.518284",
     "exception": false,
     "start_time": "2021-02-13T07:04:13.495708",
     "status": "completed"
    },
    "tags": []
   },
   "outputs": [
    {
     "name": "stdout",
     "output_type": "stream",
     "text": [
      "(5243, 200, 240, 1)\n",
      "(5243, 10)\n"
     ]
    }
   ],
   "source": [
    "print(x.shape)\n",
    "print(y.shape)"
   ]
  },
  {
   "cell_type": "markdown",
   "metadata": {
    "papermill": {
     "duration": 0.010565,
     "end_time": "2021-02-13T07:04:13.539971",
     "exception": false,
     "start_time": "2021-02-13T07:04:13.529406",
     "status": "completed"
    },
    "tags": []
   },
   "source": [
    "## Model construction and training"
   ]
  },
  {
   "cell_type": "code",
   "execution_count": 5,
   "metadata": {
    "execution": {
     "iopub.execute_input": "2021-02-13T07:04:13.572372Z",
     "iopub.status.busy": "2021-02-13T07:04:13.571599Z",
     "iopub.status.idle": "2021-02-13T07:06:10.019435Z",
     "shell.execute_reply": "2021-02-13T07:06:10.018929Z"
    },
    "papermill": {
     "duration": 116.468676,
     "end_time": "2021-02-13T07:06:10.019594",
     "exception": false,
     "start_time": "2021-02-13T07:04:13.550918",
     "status": "completed"
    },
    "tags": []
   },
   "outputs": [
    {
     "name": "stdout",
     "output_type": "stream",
     "text": [
      "Epoch 1/50\n",
      "66/66 [==============================] - 7s 46ms/step - loss: 150.9878 - accuracy: 0.1144 - val_loss: 27.1326 - val_accuracy: 0.1144\n",
      "Epoch 2/50\n",
      "66/66 [==============================] - 2s 33ms/step - loss: 20.9561 - accuracy: 0.1499 - val_loss: 11.4725 - val_accuracy: 0.2202\n",
      "Epoch 3/50\n",
      "66/66 [==============================] - 2s 32ms/step - loss: 10.2970 - accuracy: 0.2969 - val_loss: 8.1226 - val_accuracy: 0.4862\n",
      "Epoch 4/50\n",
      "66/66 [==============================] - 2s 32ms/step - loss: 7.5679 - accuracy: 0.5306 - val_loss: 6.2901 - val_accuracy: 0.6511\n",
      "Epoch 5/50\n",
      "66/66 [==============================] - 2s 32ms/step - loss: 6.0940 - accuracy: 0.6388 - val_loss: 5.4071 - val_accuracy: 0.6854\n",
      "Epoch 6/50\n",
      "66/66 [==============================] - 2s 32ms/step - loss: 5.1610 - accuracy: 0.7205 - val_loss: 4.6676 - val_accuracy: 0.7664\n",
      "Epoch 7/50\n",
      "66/66 [==============================] - 2s 33ms/step - loss: 4.5220 - accuracy: 0.7680 - val_loss: 4.2707 - val_accuracy: 0.7550\n",
      "Epoch 8/50\n",
      "66/66 [==============================] - 2s 33ms/step - loss: 4.0511 - accuracy: 0.8041 - val_loss: 3.8110 - val_accuracy: 0.8008\n",
      "Epoch 9/50\n",
      "66/66 [==============================] - 2s 33ms/step - loss: 3.7484 - accuracy: 0.8193 - val_loss: 3.5598 - val_accuracy: 0.8379\n",
      "Epoch 10/50\n",
      "66/66 [==============================] - 2s 33ms/step - loss: 3.5194 - accuracy: 0.8468 - val_loss: 3.3728 - val_accuracy: 0.8513\n",
      "Epoch 11/50\n",
      "66/66 [==============================] - 2s 33ms/step - loss: 3.2578 - accuracy: 0.8719 - val_loss: 3.2570 - val_accuracy: 0.8627\n",
      "Epoch 12/50\n",
      "66/66 [==============================] - 2s 33ms/step - loss: 3.2012 - accuracy: 0.8698 - val_loss: 3.2985 - val_accuracy: 0.8580\n",
      "Epoch 13/50\n",
      "66/66 [==============================] - 2s 33ms/step - loss: 3.1537 - accuracy: 0.8837 - val_loss: 3.0085 - val_accuracy: 0.8875\n",
      "Epoch 14/50\n",
      "66/66 [==============================] - 2s 32ms/step - loss: 2.9519 - accuracy: 0.9024 - val_loss: 2.9892 - val_accuracy: 0.8923\n",
      "Epoch 15/50\n",
      "66/66 [==============================] - 2s 33ms/step - loss: 2.9432 - accuracy: 0.8958 - val_loss: 3.0104 - val_accuracy: 0.8837\n",
      "Epoch 16/50\n",
      "66/66 [==============================] - 2s 32ms/step - loss: 2.9018 - accuracy: 0.9056 - val_loss: 2.8693 - val_accuracy: 0.9066\n",
      "Epoch 17/50\n",
      "66/66 [==============================] - 2s 33ms/step - loss: 2.8559 - accuracy: 0.9106 - val_loss: 2.8332 - val_accuracy: 0.8923\n",
      "Epoch 18/50\n",
      "66/66 [==============================] - 2s 33ms/step - loss: 2.7875 - accuracy: 0.9063 - val_loss: 3.0170 - val_accuracy: 0.8551\n",
      "Epoch 19/50\n",
      "66/66 [==============================] - 2s 33ms/step - loss: 2.8261 - accuracy: 0.8965 - val_loss: 2.8914 - val_accuracy: 0.9104\n",
      "Epoch 20/50\n",
      "66/66 [==============================] - 2s 33ms/step - loss: 2.8510 - accuracy: 0.9035 - val_loss: 2.9260 - val_accuracy: 0.8627\n",
      "Epoch 21/50\n",
      "66/66 [==============================] - 2s 32ms/step - loss: 2.7437 - accuracy: 0.9208 - val_loss: 2.8010 - val_accuracy: 0.9028\n",
      "Epoch 22/50\n",
      "66/66 [==============================] - 2s 34ms/step - loss: 2.7880 - accuracy: 0.9062 - val_loss: 2.9547 - val_accuracy: 0.8599\n",
      "Epoch 23/50\n",
      "66/66 [==============================] - 2s 32ms/step - loss: 2.7749 - accuracy: 0.9185 - val_loss: 2.7191 - val_accuracy: 0.9018\n",
      "Epoch 24/50\n",
      "66/66 [==============================] - 2s 34ms/step - loss: 2.6727 - accuracy: 0.9229 - val_loss: 2.9263 - val_accuracy: 0.8646\n",
      "Epoch 25/50\n",
      "66/66 [==============================] - 2s 33ms/step - loss: 2.7712 - accuracy: 0.9257 - val_loss: 3.0509 - val_accuracy: 0.8170\n",
      "Epoch 26/50\n",
      "66/66 [==============================] - 2s 32ms/step - loss: 2.8034 - accuracy: 0.9140 - val_loss: 2.8102 - val_accuracy: 0.9075\n",
      "Epoch 27/50\n",
      "66/66 [==============================] - 2s 33ms/step - loss: 2.6835 - accuracy: 0.9438 - val_loss: 2.9812 - val_accuracy: 0.8599\n",
      "Epoch 28/50\n",
      "66/66 [==============================] - 2s 32ms/step - loss: 2.7575 - accuracy: 0.9263 - val_loss: 2.8740 - val_accuracy: 0.8951\n",
      "Epoch 29/50\n",
      "66/66 [==============================] - 2s 33ms/step - loss: 2.8274 - accuracy: 0.9085 - val_loss: 2.7836 - val_accuracy: 0.9142\n",
      "Epoch 30/50\n",
      "66/66 [==============================] - 2s 33ms/step - loss: 2.6103 - accuracy: 0.9433 - val_loss: 2.8221 - val_accuracy: 0.8961\n",
      "Epoch 31/50\n",
      "66/66 [==============================] - 2s 33ms/step - loss: 2.8747 - accuracy: 0.9062 - val_loss: 2.9010 - val_accuracy: 0.9113\n",
      "Epoch 32/50\n",
      "66/66 [==============================] - 2s 33ms/step - loss: 2.7013 - accuracy: 0.9498 - val_loss: 2.8895 - val_accuracy: 0.8980\n",
      "Epoch 33/50\n",
      "66/66 [==============================] - 2s 33ms/step - loss: 2.7682 - accuracy: 0.9299 - val_loss: 2.7408 - val_accuracy: 0.9085\n",
      "Epoch 34/50\n",
      "66/66 [==============================] - 2s 32ms/step - loss: 2.7184 - accuracy: 0.9248 - val_loss: 2.8071 - val_accuracy: 0.9085\n",
      "Epoch 35/50\n",
      "66/66 [==============================] - 2s 33ms/step - loss: 2.6909 - accuracy: 0.9394 - val_loss: 2.8665 - val_accuracy: 0.8770\n",
      "Epoch 36/50\n",
      "66/66 [==============================] - 2s 33ms/step - loss: 2.6917 - accuracy: 0.9246 - val_loss: 2.8167 - val_accuracy: 0.8866\n",
      "Epoch 37/50\n",
      "66/66 [==============================] - 2s 34ms/step - loss: 2.7474 - accuracy: 0.9261 - val_loss: 2.8289 - val_accuracy: 0.8875\n",
      "Epoch 38/50\n",
      "66/66 [==============================] - 2s 33ms/step - loss: 2.6550 - accuracy: 0.9369 - val_loss: 2.7775 - val_accuracy: 0.9123\n",
      "Epoch 39/50\n",
      "66/66 [==============================] - 2s 35ms/step - loss: 2.7461 - accuracy: 0.9208 - val_loss: 2.9397 - val_accuracy: 0.8694\n",
      "Epoch 40/50\n",
      "66/66 [==============================] - 2s 33ms/step - loss: 2.6711 - accuracy: 0.9558 - val_loss: 2.7261 - val_accuracy: 0.9285\n",
      "Epoch 41/50\n",
      "66/66 [==============================] - 2s 33ms/step - loss: 2.7048 - accuracy: 0.9450 - val_loss: 2.8305 - val_accuracy: 0.9209\n",
      "Epoch 42/50\n",
      "66/66 [==============================] - 2s 33ms/step - loss: 2.7000 - accuracy: 0.9497 - val_loss: 2.6687 - val_accuracy: 0.8990\n",
      "Epoch 43/50\n",
      "66/66 [==============================] - 2s 32ms/step - loss: 2.5925 - accuracy: 0.9427 - val_loss: 2.8553 - val_accuracy: 0.8942\n",
      "Epoch 44/50\n",
      "66/66 [==============================] - 2s 32ms/step - loss: 2.7387 - accuracy: 0.9312 - val_loss: 2.9372 - val_accuracy: 0.9113\n",
      "Epoch 45/50\n",
      "66/66 [==============================] - 2s 33ms/step - loss: 2.8562 - accuracy: 0.9324 - val_loss: 3.0809 - val_accuracy: 0.8780\n",
      "Epoch 46/50\n",
      "66/66 [==============================] - 2s 33ms/step - loss: 2.7750 - accuracy: 0.9474 - val_loss: 2.8433 - val_accuracy: 0.9256\n",
      "Epoch 47/50\n",
      "66/66 [==============================] - 2s 33ms/step - loss: 2.7182 - accuracy: 0.9498 - val_loss: 2.8610 - val_accuracy: 0.8923\n",
      "Epoch 48/50\n",
      "66/66 [==============================] - 2s 33ms/step - loss: 2.6572 - accuracy: 0.9439 - val_loss: 2.7093 - val_accuracy: 0.9295\n",
      "Epoch 49/50\n",
      "66/66 [==============================] - 2s 32ms/step - loss: 2.6439 - accuracy: 0.9442 - val_loss: 2.6715 - val_accuracy: 0.9342\n",
      "Epoch 50/50\n",
      "66/66 [==============================] - 2s 33ms/step - loss: 2.5333 - accuracy: 0.9628 - val_loss: 2.7637 - val_accuracy: 0.8999\n"
     ]
    },
    {
     "data": {
      "text/plain": [
       "<tensorflow.python.keras.callbacks.History at 0x7f5c5821f810>"
      ]
     },
     "execution_count": 5,
     "metadata": {},
     "output_type": "execute_result"
    }
   ],
   "source": [
    "model = Sequential()\n",
    "model.add(Conv2D(16, kernel_size = 5, activation = 'relu', input_shape = (200,240,1)))\n",
    "model.add(MaxPooling2D(pool_size = 2))\n",
    "model.add(Conv2D(32, kernel_size = 5, activation = 'relu'))\n",
    "model.add(MaxPooling2D(pool_size = 2))\n",
    "model.add(Conv2D(64, kernel_size = 5, activation = 'relu'))\n",
    "model.add(MaxPooling2D(pool_size = 2))\n",
    "model.add(Conv2D(128, kernel_size = 5, activation = 'relu'))\n",
    "model.add(MaxPooling2D(pool_size = 2))\n",
    "\n",
    "model.add(Flatten())\n",
    "model.add(Dense(32,activation = 'relu',kernel_regularizer = regularizers.l1_l2(l1 = 0.05,l2 = 0.5), bias_regularizer=l2(0.1)))\n",
    "model.add(Dense(10, activation = 'softmax',kernel_regularizer = regularizers.l1_l2(l1 = 0.05, l2 = 0.5), bias_regularizer=l2(0.1)))\n",
    "model.compile(optimizer = 'adam', loss = 'categorical_crossentropy', metrics = ['accuracy'])\n",
    "model.fit(x_train, y_train, validation_data=(x_val, y_val), epochs = 50,batch_size = 64)"
   ]
  },
  {
   "cell_type": "code",
   "execution_count": 6,
   "metadata": {
    "execution": {
     "iopub.execute_input": "2021-02-13T07:06:11.204623Z",
     "iopub.status.busy": "2021-02-13T07:06:11.203645Z",
     "iopub.status.idle": "2021-02-13T07:06:11.250174Z",
     "shell.execute_reply": "2021-02-13T07:06:11.249522Z"
    },
    "papermill": {
     "duration": 0.642112,
     "end_time": "2021-02-13T07:06:11.250322",
     "exception": false,
     "start_time": "2021-02-13T07:06:10.608210",
     "status": "completed"
    },
    "tags": []
   },
   "outputs": [],
   "source": [
    "model.save('emojirecog.hdf5')"
   ]
  },
  {
   "cell_type": "code",
   "execution_count": null,
   "metadata": {
    "papermill": {
     "duration": 0.601852,
     "end_time": "2021-02-13T07:06:12.447252",
     "exception": false,
     "start_time": "2021-02-13T07:06:11.845400",
     "status": "completed"
    },
    "tags": []
   },
   "outputs": [],
   "source": []
  }
 ],
 "metadata": {
  "kernelspec": {
   "display_name": "Python 3",
   "language": "python",
   "name": "python3"
  },
  "language_info": {
   "codemirror_mode": {
    "name": "ipython",
    "version": 3
   },
   "file_extension": ".py",
   "mimetype": "text/x-python",
   "name": "python",
   "nbconvert_exporter": "python",
   "pygments_lexer": "ipython3",
   "version": "3.7.9"
  },
  "papermill": {
   "default_parameters": {},
   "duration": 153.817557,
   "end_time": "2021-02-13T07:06:15.627534",
   "environment_variables": {},
   "exception": null,
   "input_path": "__notebook__.ipynb",
   "output_path": "__notebook__.ipynb",
   "parameters": {},
   "start_time": "2021-02-13T07:03:41.809977",
   "version": "2.2.2"
  }
 },
 "nbformat": 4,
 "nbformat_minor": 4
}
